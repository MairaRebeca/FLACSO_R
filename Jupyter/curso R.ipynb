{
 "cells": [
  {
   "cell_type": "markdown",
   "metadata": {},
   "source": [
    "<center> <h1>Talleres de verano FLACSO 2019</h1> </center>"
   ]
  },
  {
   "cell_type": "markdown",
   "metadata": {},
   "source": [
    "<center><p style=\"width: 400px;\">\n",
    "<img src=\"https://user-images.githubusercontent.com/13545121/58193603-005d7780-7c89-11e9-8e25-900572da8ddb.PNG\" style=\"float: center;\" />\n",
    "</p></center>\n"
   ]
  },
  {
   "cell_type": "markdown",
   "metadata": {},
   "source": [
    "### Introducción a R\n",
    "\n",
    "\n",
    "El objetivo del curso es proporcionar a los asistentes los elementos básicos de R a fin de que puedan manipular bases de datos, generar gráficos y desarrollar estadística básica. La dinámica del taller es totalmente práctico y busca que desde el primer momento los asistentes adquieran la habilidad para desarrollar el análisis. Para ello, se hace uso de un repositorio en **GitHub** en el que se almacenan los materiales y cada sesión se acompaña de ficheros en **RPubs** donde se puede seguir la ejecución de los códigos paso a paso."
   ]
  },
  {
   "cell_type": "markdown",
   "metadata": {},
   "source": [
    "### Temario General"
   ]
  },
  {
   "cell_type": "markdown",
   "metadata": {},
   "source": [
    "#### Sesión 1. Introducción a R\n",
    "* Descarga e instalación de R y RStudio.\n",
    "* Aspectos básicos de R: objetos; funciones; vectores; matrices.\n",
    "\n",
    "#### Sesión 2. Bases de datos\n",
    "* Importación y exportación base de datos en formatos  dta, sav, csv y xlsx.\n",
    "* Generación y manipulación de data.frames\n",
    "\n",
    "#### Sesión 3. Estadística descriptiva\n",
    "* Introducción\n",
    "* Medidas de tendencia central: media, mediana y moda.\n",
    "\n",
    "\n",
    "#### Sesión 4. Medidas de tendencia central\n",
    "* Medidas de posición: cuartiles, deciles.\n",
    "* Medidas de dispersión: rango, amplitud intercuartílica, varianza, desviación estándar, coeficiente de variación.\n",
    "\n",
    "#### Sesión 5. Gráficas\n",
    "* Gráficas para variables cuantitativas: histogramas; q-q plots; caja y brazos, etc.\n",
    "* Gráficas para variables cualitativas: barras; sectores.\n",
    "* Gráficas por grupos.\n"
   ]
  },
  {
   "cell_type": "markdown",
   "metadata": {},
   "source": [
    "## Bibliografía"
   ]
  },
  {
   "cell_type": "markdown",
   "metadata": {},
   "source": [
    "ElousaP. (2011). *Introducción al entorno de R*. Universidad del País Vasco.\n",
    "\n",
    "R DevelopmentCore Team(2000). *Notas sobre R: Un entorno de programación para Análisis de Datos\n",
    "y Gráficos*."
   ]
  },
  {
   "cell_type": "markdown",
   "metadata": {},
   "source": [
    "---"
   ]
  },
  {
   "cell_type": "markdown",
   "metadata": {},
   "source": [
    "### Sesión 1: Introducción a R"
   ]
  },
  {
   "cell_type": "markdown",
   "metadata": {},
   "source": [
    "El objetivo en este módulo se proporciona una breve introducción al entorno de R y a sus características más básicas."
   ]
  },
  {
   "cell_type": "markdown",
   "metadata": {},
   "source": [
    "###### Contenido\n",
    "\n",
    "<ul>\n",
    "<li type=\"circle\">0.  Limpiar el espacio de trabajo</li>\n",
    "<li type=\"circle\">1.  Instalar Librerías</li>\n",
    "<li type=\"circle\">2.  Directorio de trabajo</li>\n",
    "<li type=\"circle\">3.  R como calculadora</li>\n",
    "<li type=\"circle\">4.  Tipos de datos</li>\n",
    "<li type=\"circle\">5.  Conversión de datos</li>\n",
    "<li type=\"circle\">6.  Vectores</li>\n",
    "<li type=\"circle\">7.  Funciones</li>\n",
    "<li type=\"circle\">8.  Matrices</li>\n",
    "<li type=\"circle\">9.  Missing values</li>\n",
    "<li type=\"circle\">10. Data Frame</li>\n",
    "</ul>\n"
   ]
  },
  {
   "cell_type": "code",
   "execution_count": 3,
   "metadata": {},
   "outputs": [
    {
     "data": {
      "text/html": [],
      "text/latex": [],
      "text/markdown": [],
      "text/plain": [
       "character(0)"
      ]
     },
     "metadata": {},
     "output_type": "display_data"
    },
    {
     "data": {
      "text/html": [],
      "text/latex": [],
      "text/markdown": [],
      "text/plain": [
       "character(0)"
      ]
     },
     "metadata": {},
     "output_type": "display_data"
    },
    {
     "data": {
      "text/html": [
       "<table>\n",
       "<thead><tr><th></th><th scope=col>used</th><th scope=col>(Mb)</th><th scope=col>gc trigger</th><th scope=col>(Mb)</th><th scope=col>max used</th><th scope=col>(Mb)</th></tr></thead>\n",
       "<tbody>\n",
       "\t<tr><th scope=row>Ncells</th><td> 554003</td><td>29.6   </td><td>1160978</td><td>62.1   </td><td>1160978</td><td>62.1   </td></tr>\n",
       "\t<tr><th scope=row>Vcells</th><td>1071495</td><td> 8.2   </td><td>8388608</td><td>64.0   </td><td>6416775</td><td>49.0   </td></tr>\n",
       "</tbody>\n",
       "</table>\n"
      ],
      "text/latex": [
       "\\begin{tabular}{r|llllll}\n",
       "  & used & (Mb) & gc trigger & (Mb) & max used & (Mb)\\\\\n",
       "\\hline\n",
       "\tNcells &  554003 & 29.6    & 1160978 & 62.1    & 1160978 & 62.1   \\\\\n",
       "\tVcells & 1071495 &  8.2    & 8388608 & 64.0    & 6416775 & 49.0   \\\\\n",
       "\\end{tabular}\n"
      ],
      "text/markdown": [
       "\n",
       "| <!--/--> | used | (Mb) | gc trigger | (Mb) | max used | (Mb) | \n",
       "|---|---|\n",
       "| Ncells |  554003 | 29.6    | 1160978 | 62.1    | 1160978 | 62.1    | \n",
       "| Vcells | 1071495 |  8.2    | 8388608 | 64.0    | 6416775 | 49.0    | \n",
       "\n",
       "\n"
      ],
      "text/plain": [
       "       used    (Mb) gc trigger (Mb) max used (Mb)\n",
       "Ncells  554003 29.6 1160978    62.1 1160978  62.1\n",
       "Vcells 1071495  8.2 8388608    64.0 6416775  49.0"
      ]
     },
     "metadata": {},
     "output_type": "display_data"
    }
   ],
   "source": [
    "#0.  Limpiar el espacio de trabajo\n",
    "\n",
    "ls()            # Lista de objetos actuales\n",
    "rm(list=ls())   # Borrar objetos actuales\n",
    "ls() \n",
    "gc()            # Garbage collection, reporta memoria en uso\n",
    "options(warn=-1)# Quita los warnings\n"
   ]
  },
  {
   "cell_type": "code",
   "execution_count": 4,
   "metadata": {},
   "outputs": [],
   "source": [
    "#1.  Instalar Librerías\n",
    "\n",
    "#install.packages(\"foreign\")\n",
    "#install.packages(\"ggplot2\")\n",
    "\n",
    "#search()          # Busca librerias instaladas\n",
    "\n",
    "library(base)     # Funciones basicas (aritmeticas, input/output, basic programming support,...)\n",
    "library(gdata)    # Leer y escribir Microsoft files\n",
    "library(foreign)  # Leer y escribir STATA files\n"
   ]
  },
  {
   "cell_type": "code",
   "execution_count": 9,
   "metadata": {},
   "outputs": [
    {
     "data": {
      "text/html": [
       "'C:/Users/jmartinez/Desktop/JC/OneDrive - El Colegio de México A.C/Proyecto/FLACSO_R_22052019/R'"
      ],
      "text/latex": [
       "'C:/Users/jmartinez/Desktop/JC/OneDrive - El Colegio de México A.C/Proyecto/FLACSO\\_R\\_22052019/R'"
      ],
      "text/markdown": [
       "'C:/Users/jmartinez/Desktop/JC/OneDrive - El Colegio de México A.C/Proyecto/FLACSO_R_22052019/R'"
      ],
      "text/plain": [
       "[1] \"C:/Users/jmartinez/Desktop/JC/OneDrive - El Colegio de México A.C/Proyecto/FLACSO_R_22052019/R\""
      ]
     },
     "metadata": {},
     "output_type": "display_data"
    },
    {
     "data": {
      "text/html": [
       "<ol class=list-inline>\n",
       "\t<li>'R.R'</li>\n",
       "\t<li>'Sesión 1.R'</li>\n",
       "</ol>\n"
      ],
      "text/latex": [
       "\\begin{enumerate*}\n",
       "\\item 'R.R'\n",
       "\\item 'Sesión 1.R'\n",
       "\\end{enumerate*}\n"
      ],
      "text/markdown": [
       "1. 'R.R'\n",
       "2. 'Sesión 1.R'\n",
       "\n",
       "\n"
      ],
      "text/plain": [
       "[1] \"R.R\"        \"Sesión 1.R\""
      ]
     },
     "metadata": {},
     "output_type": "display_data"
    }
   ],
   "source": [
    "#2.  Directorio de trabajo\n",
    "\n",
    "getwd()                   # Directorio actual\n",
    "#setwd(\"/052019/R\")       # Cambio de directorio\n",
    "list.files()              # Lista de archivos\n"
   ]
  },
  {
   "cell_type": "code",
   "execution_count": 10,
   "metadata": {},
   "outputs": [
    {
     "data": {
      "text/html": [
       "2"
      ],
      "text/latex": [
       "2"
      ],
      "text/markdown": [
       "2"
      ],
      "text/plain": [
       "[1] 2"
      ]
     },
     "metadata": {},
     "output_type": "display_data"
    }
   ],
   "source": [
    "#3.  R como calculadora\n",
    "\n",
    "1+1                       # Suma dos digitos\n"
   ]
  },
  {
   "cell_type": "code",
   "execution_count": 13,
   "metadata": {},
   "outputs": [
    {
     "data": {
      "text/html": [
       "<ol class=list-inline>\n",
       "\t<li>'a'</li>\n",
       "\t<li>'b'</li>\n",
       "\t<li>'c'</li>\n",
       "</ol>\n"
      ],
      "text/latex": [
       "\\begin{enumerate*}\n",
       "\\item 'a'\n",
       "\\item 'b'\n",
       "\\item 'c'\n",
       "\\end{enumerate*}\n"
      ],
      "text/markdown": [
       "1. 'a'\n",
       "2. 'b'\n",
       "3. 'c'\n",
       "\n",
       "\n"
      ],
      "text/plain": [
       "[1] \"a\" \"b\" \"c\""
      ]
     },
     "metadata": {},
     "output_type": "display_data"
    },
    {
     "data": {
      "text/html": [
       "<ol class=list-inline>\n",
       "\t<li>1</li>\n",
       "\t<li>2</li>\n",
       "\t<li>3</li>\n",
       "\t<li>4</li>\n",
       "\t<li>5</li>\n",
       "\t<li>6</li>\n",
       "\t<li>7</li>\n",
       "</ol>\n"
      ],
      "text/latex": [
       "\\begin{enumerate*}\n",
       "\\item 1\n",
       "\\item 2\n",
       "\\item 3\n",
       "\\item 4\n",
       "\\item 5\n",
       "\\item 6\n",
       "\\item 7\n",
       "\\end{enumerate*}\n"
      ],
      "text/markdown": [
       "1. 1\n",
       "2. 2\n",
       "3. 3\n",
       "4. 4\n",
       "5. 5\n",
       "6. 6\n",
       "7. 7\n",
       "\n",
       "\n"
      ],
      "text/plain": [
       "[1] 1 2 3 4 5 6 7"
      ]
     },
     "metadata": {},
     "output_type": "display_data"
    },
    {
     "data": {
      "text/html": [
       "TRUE"
      ],
      "text/latex": [
       "TRUE"
      ],
      "text/markdown": [
       "TRUE"
      ],
      "text/plain": [
       "[1] TRUE"
      ]
     },
     "metadata": {},
     "output_type": "display_data"
    },
    {
     "data": {
      "text/html": [
       "FALSE"
      ],
      "text/latex": [
       "FALSE"
      ],
      "text/markdown": [
       "FALSE"
      ],
      "text/plain": [
       "[1] FALSE"
      ]
     },
     "metadata": {},
     "output_type": "display_data"
    },
    {
     "data": {
      "text/html": [
       "TRUE"
      ],
      "text/latex": [
       "TRUE"
      ],
      "text/markdown": [
       "TRUE"
      ],
      "text/plain": [
       "[1] TRUE"
      ]
     },
     "metadata": {},
     "output_type": "display_data"
    }
   ],
   "source": [
    "#4.  Tipos de datos\n",
    "\n",
    "c('a','b','c')            # Caracter\n",
    "1:7                       # Entero\n",
    "40<80                     # Valor logico\n",
    "2+2 == 5                  # Valor logico\n",
    "T == TRUE                 # T expresion corta de verdadero\n"
   ]
  },
  {
   "cell_type": "code",
   "execution_count": 14,
   "metadata": {},
   "outputs": [
    {
     "data": {
      "text/html": [
       "12"
      ],
      "text/latex": [
       "12"
      ],
      "text/markdown": [
       "12"
      ],
      "text/plain": [
       "[1] 12"
      ]
     },
     "metadata": {},
     "output_type": "display_data"
    },
    {
     "data": {
      "text/html": [
       "24"
      ],
      "text/latex": [
       "24"
      ],
      "text/markdown": [
       "24"
      ],
      "text/plain": [
       "[1] 24"
      ]
     },
     "metadata": {},
     "output_type": "display_data"
    },
    {
     "data": {
      "text/html": [
       "TRUE"
      ],
      "text/latex": [
       "TRUE"
      ],
      "text/markdown": [
       "TRUE"
      ],
      "text/plain": [
       "[1] TRUE"
      ]
     },
     "metadata": {},
     "output_type": "display_data"
    },
    {
     "data": {
      "text/html": [
       "60"
      ],
      "text/latex": [
       "60"
      ],
      "text/markdown": [
       "60"
      ],
      "text/plain": [
       "[1] 60"
      ]
     },
     "metadata": {},
     "output_type": "display_data"
    },
    {
     "data": {
      "text/html": [
       "<ol class=list-inline>\n",
       "\t<li>'R'</li>\n",
       "\t<li>'R'</li>\n",
       "\t<li>'R'</li>\n",
       "</ol>\n"
      ],
      "text/latex": [
       "\\begin{enumerate*}\n",
       "\\item 'R'\n",
       "\\item 'R'\n",
       "\\item 'R'\n",
       "\\end{enumerate*}\n"
      ],
      "text/markdown": [
       "1. 'R'\n",
       "2. 'R'\n",
       "3. 'R'\n",
       "\n",
       "\n"
      ],
      "text/plain": [
       "[1] \"R\" \"R\" \"R\""
      ]
     },
     "metadata": {},
     "output_type": "display_data"
    },
    {
     "data": {
      "text/html": [
       "3"
      ],
      "text/latex": [
       "3"
      ],
      "text/markdown": [
       "3"
      ],
      "text/plain": [
       "[1] 3"
      ]
     },
     "metadata": {},
     "output_type": "display_data"
    }
   ],
   "source": [
    "x <- 24         # Asignacion de valor 24 a la variable x para su uso posterior (OBJETO)\n",
    "x/2             # Uso posterior de variable u objeto x\n",
    "x               # Imprime en pantalla el valor de la variable u objeto\n",
    "x <- TRUE       # Asigna el valor logico TRUE a la variable x OJO: x toma el ??ltimo valor que se le asigna\n",
    "x\n",
    "\n",
    "sum (10,20,30)      # Funcion suma\n",
    "rep('R', times=3)   # Repite la letra R el numero de veces que se indica\n",
    "sqrt(9)             # Raiz cuadrada de 9\n",
    "\n",
    "#help(sum)         # Ayuda sobre funcion sum\n",
    "#example(min)      # Ejemplo de funcion min"
   ]
  },
  {
   "cell_type": "code",
   "execution_count": null,
   "metadata": {},
   "outputs": [],
   "source": []
  }
 ],
 "metadata": {
  "kernelspec": {
   "display_name": "R",
   "language": "R",
   "name": "ir"
  },
  "language_info": {
   "codemirror_mode": "r",
   "file_extension": ".r",
   "mimetype": "text/x-r-source",
   "name": "R",
   "pygments_lexer": "r",
   "version": "3.5.1"
  }
 },
 "nbformat": 4,
 "nbformat_minor": 2
}
